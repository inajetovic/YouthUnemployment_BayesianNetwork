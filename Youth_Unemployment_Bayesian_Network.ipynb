{
 "cells": [
  {
   "cell_type": "markdown",
   "metadata": {},
   "source": [
    "## Youth Unemployment Bayesian Network\n",
    "\n",
    "Matteo Antonio Inajetovic 0000949648"
   ]
  },
  {
   "cell_type": "code",
   "execution_count": 1,
   "metadata": {},
   "outputs": [],
   "source": [
    "import numpy as np\n",
    "import matplotlib.pyplot as plt\n",
    "from pgmpy.factors.discrete import State\n",
    "from pgmpy.factors.discrete import TabularCPD\n",
    "from pgmpy.models import BayesianModel\n",
    "from pgmpy.inference import VariableElimination\n",
    "from pgmpy.sampling import BayesianModelSampling\n",
    "import networkx as nx"
   ]
  },
  {
   "cell_type": "code",
   "execution_count": 2,
   "metadata": {},
   "outputs": [
    {
     "name": "stdout",
     "output_type": "stream",
     "text": [
      "CPDs:\n",
      "+-----------+-----+\n",
      "| Gender(0) | 0.5 |\n",
      "+-----------+-----+\n",
      "| Gender(1) | 0.5 |\n",
      "+-----------+-----+ \n",
      "\n",
      " +--------+-----+\n",
      "| N/S(0) | 0.5 |\n",
      "+--------+-----+\n",
      "| N/S(1) | 0.5 |\n",
      "+--------+-----+ \n",
      "\n",
      " +-----------------------+--------+--------+\n",
      "| N/S                   | N/S(0) | N/S(1) |\n",
      "+-----------------------+--------+--------+\n",
      "| Economic_Situation(0) | 0.06   | 0.1    |\n",
      "+-----------------------+--------+--------+\n",
      "| Economic_Situation(1) | 0.94   | 0.9    |\n",
      "+-----------------------+--------+--------+ \n",
      "\n",
      " +--------------------+-----------------------+-----------------------+-----------------------+-----------------------+-----------------------+-----------------------+-----------------------+-----------------------+\n",
      "| Gender             | Gender(0)             | Gender(0)             | Gender(0)             | Gender(0)             | Gender(1)             | Gender(1)             | Gender(1)             | Gender(1)             |\n",
      "+--------------------+-----------------------+-----------------------+-----------------------+-----------------------+-----------------------+-----------------------+-----------------------+-----------------------+\n",
      "| Economic_Situation | Economic_Situation(0) | Economic_Situation(0) | Economic_Situation(1) | Economic_Situation(1) | Economic_Situation(0) | Economic_Situation(0) | Economic_Situation(1) | Economic_Situation(1) |\n",
      "+--------------------+-----------------------+-----------------------+-----------------------+-----------------------+-----------------------+-----------------------+-----------------------+-----------------------+\n",
      "| N/S                | N/S(0)                | N/S(1)                | N/S(0)                | N/S(1)                | N/S(0)                | N/S(1)                | N/S(0)                | N/S(1)                |\n",
      "+--------------------+-----------------------+-----------------------+-----------------------+-----------------------+-----------------------+-----------------------+-----------------------+-----------------------+\n",
      "| Graduate(0)        | 0.97                  | 0.98                  | 0.89                  | 0.93                  | 0.96                  | 0.97                  | 0.86                  | 0.9                   |\n",
      "+--------------------+-----------------------+-----------------------+-----------------------+-----------------------+-----------------------+-----------------------+-----------------------+-----------------------+\n",
      "| Graduate(1)        | 0.03                  | 0.02                  | 0.11                  | 0.07                  | 0.04                  | 0.03                  | 0.14                  | 0.1                   |\n",
      "+--------------------+-----------------------+-----------------------+-----------------------+-----------------------+-----------------------+-----------------------+-----------------------+-----------------------+ \n",
      "\n",
      " +---------------+-------------+-------------+-------------+-------------+\n",
      "| Gender        | Gender(0)   | Gender(0)   | Gender(1)   | Gender(1)   |\n",
      "+---------------+-------------+-------------+-------------+-------------+\n",
      "| Graduate      | Graduate(0) | Graduate(1) | Graduate(0) | Graduate(1) |\n",
      "+---------------+-------------+-------------+-------------+-------------+\n",
      "| Unemployed(0) | 0.78        | 0.94        | 0.75        | 0.9         |\n",
      "+---------------+-------------+-------------+-------------+-------------+\n",
      "| Unemployed(1) | 0.22        | 0.06        | 0.25        | 0.1         |\n",
      "+---------------+-------------+-------------+-------------+-------------+ \n",
      "\n",
      "\n",
      "Let's check if the sum of the probabilities for each state is equal to 1 and wheteher the CPDs associated with nodes are consistent with their parents:\n",
      "True or False? True\n"
     ]
    }
   ],
   "source": [
    "yu_net = BayesianModel([('Gender', 'Graduate'), ('Gender', 'Unemployed'), ('N/S','Graduate'),('N/S', 'Economic_Situation'),\n",
    "                        ('Economic_Situation', 'Graduate'), ('Graduate', 'Unemployed')])\n",
    "\n",
    "cpd_gender= TabularCPD('Gender', 2, [[.5], [.5]])\n",
    "cpd_ns= TabularCPD('N/S', 2, [[.5], [.5]])\n",
    "cpd_situation= TabularCPD('Economic_Situation', 2, ([.06, .1],[.94, .9]), evidence=['N/S'], evidence_card= [2]) \n",
    "cpd_graduate= TabularCPD('Graduate', 2, ([.97,  .98, .89, .93, .96, .97, .86, .9],[.03, .02, .11, .07, .04, .03, .14, .10]),\n",
    "                      evidence=['Gender','Economic_Situation','N/S'], evidence_card=[2,2,2]) \n",
    "cpd_unemployed= TabularCPD('Unemployed', 2, ([.78, .94, .75, .9],[.22, .06,.25, .1]),\n",
    "                        evidence= ['Gender', 'Graduate'], evidence_card= [2,2])\n",
    "\n",
    "yu_net.add_cpds(cpd_gender, cpd_ns, cpd_situation, cpd_graduate, cpd_unemployed)\n",
    "print(\"CPDs:\")\n",
    "print(cpd_gender, '\\n\\n', cpd_ns, '\\n\\n', cpd_situation, '\\n\\n', cpd_graduate, '\\n\\n',cpd_unemployed, '\\n\\n')\n",
    "print(\"Let's check if the sum of the probabilities for each state is equal to 1 and wheteher the CPDs associated with nodes are consistent with their parents:\")\n",
    "print(\"True or False?\",yu_net.check_model())"
   ]
  },
  {
   "cell_type": "code",
   "execution_count": 3,
   "metadata": {},
   "outputs": [
    {
     "name": "stderr",
     "output_type": "stream",
     "text": [
      "C:\\Users\\39345\\Anaconda3\\lib\\site-packages\\networkx\\drawing\\nx_pylab.py:579: MatplotlibDeprecationWarning: \n",
      "The iterable function was deprecated in Matplotlib 3.1 and will be removed in 3.3. Use np.iterable instead.\n",
      "  if not cb.iterable(width):\n",
      "C:\\Users\\39345\\Anaconda3\\lib\\site-packages\\networkx\\drawing\\nx_pylab.py:676: MatplotlibDeprecationWarning: \n",
      "The iterable function was deprecated in Matplotlib 3.1 and will be removed in 3.3. Use np.iterable instead.\n",
      "  if cb.iterable(node_size):  # many node sizes\n"
     ]
    },
    {
     "data": {
      "image/png": "[encoded data removed]",
      "text/plain": [
       "<Figure size 432x288 with 1 Axes>"
      ]
     },
     "metadata": {},
     "output_type": "display_data"
    }
   ],
   "source": [
    "np.random.seed(14)\n",
    "nx.draw(yu_net, with_labels = True, node_size = 2500, node_color = 'y', node_shape = 'o')\n",
    "plt.show()"
   ]
  },
  {
   "cell_type": "code",
   "execution_count": 4,
   "metadata": {},
   "outputs": [
    {
     "name": "stdout",
     "output_type": "stream",
     "text": [
      "Independence relations between the net's variables:\n"
     ]
    },
    {
     "data": {
      "text/plain": [
       "(Gender _|_ N/S, Economic_Situation)\n",
       "(Gender _|_ Economic_Situation | N/S)\n",
       "(Gender _|_ N/S | Economic_Situation)\n",
       "(Unemployed _|_ N/S, Economic_Situation | Gender, Graduate)\n",
       "(Unemployed _|_ Economic_Situation | N/S, Gender, Graduate)\n",
       "(Unemployed _|_ N/S | Gender, Economic_Situation, Graduate)\n",
       "(N/S _|_ Gender)\n",
       "(N/S _|_ Gender | Economic_Situation)\n",
       "(N/S _|_ Unemployed | Gender, Graduate)\n",
       "(N/S _|_ Unemployed | Gender, Economic_Situation, Graduate)\n",
       "(Economic_Situation _|_ Gender)\n",
       "(Economic_Situation _|_ Gender | N/S)\n",
       "(Economic_Situation _|_ Unemployed | Gender, Graduate)\n",
       "(Economic_Situation _|_ Unemployed | N/S, Gender, Graduate)"
      ]
     },
     "execution_count": 4,
     "metadata": {},
     "output_type": "execute_result"
    }
   ],
   "source": [
    "print(\"Independence relations between the net's variables:\")\n",
    "yu_net.get_independencies() "
   ]
  },
  {
   "cell_type": "code",
   "execution_count": 5,
   "metadata": {},
   "outputs": [
    {
     "name": "stdout",
     "output_type": "stream",
     "text": [
      "Local independencies:\n",
      " (Gender _|_ N/S, Economic_Situation)\n",
      "(Unemployed _|_ N/S, Economic_Situation | Gender, Graduate)\n",
      "(N/S _|_ Gender)\n",
      "(Economic_Situation _|_ Gender | N/S)\n"
     ]
    }
   ],
   "source": [
    "print('Local independencies:\\n', \n",
    "      yu_net.local_independencies(list(yu_net.nodes())))"
   ]
  },
  {
   "cell_type": "code",
   "execution_count": 6,
   "metadata": {},
   "outputs": [
    {
     "name": "stdout",
     "output_type": "stream",
     "text": [
      "Couples of parents in the eventual V-structures present in the net:\n"
     ]
    },
    {
     "data": {
      "text/plain": [
       "{('Economic_Situation', 'Gender'), ('Gender', 'N/S')}"
      ]
     },
     "execution_count": 6,
     "metadata": {},
     "output_type": "execute_result"
    }
   ],
   "source": [
    "print(\"Couples of parents in the eventual V-structures present in the net:\")\n",
    "yu_net.get_immoralities() "
   ]
  },
  {
   "cell_type": "code",
   "execution_count": 7,
   "metadata": {},
   "outputs": [
    {
     "name": "stdout",
     "output_type": "stream",
     "text": [
      "Given some evidences we can see whether a trail is active or not: \n",
      "Is the trail ('Gender', 'N/S') active?\n",
      "False\n",
      "..but, if we add the evidence 'Graduate':\n",
      "True\n",
      "Is the trail ('Economic_Situation', 'Gender') active?\n",
      "False\n",
      "..but, if we add the evidence 'Unemployed':\n",
      "True\n"
     ]
    }
   ],
   "source": [
    "print(\"Given some evidences we can see whether a trail is active or not: \")\n",
    "print(\"Is the trail ('Gender', 'N/S') active?\")\n",
    "print(yu_net.is_active_trail('Gender', 'N/S')) \n",
    "print(\"..but, if we add the evidence 'Graduate':\")\n",
    "print(yu_net.is_active_trail('Gender', 'N/S',observed = ['Graduate']))\n",
    "print(\"Is the trail ('Economic_Situation', 'Gender') active?\")\n",
    "print(yu_net.is_active_trail('Gender', 'Economic_Situation')) \n",
    "print(\"..but, if we add the evidence 'Unemployed':\")\n",
    "print(yu_net.is_active_trail('Gender', 'Economic_Situation',observed = ['Unemployed']))\n"
   ]
  },
  {
   "cell_type": "code",
   "execution_count": 8,
   "metadata": {},
   "outputs": [
    {
     "name": "stdout",
     "output_type": "stream",
     "text": [
      "Nodes belonging to the Markov Blanket of \"Graduate\":\n",
      " ['Gender', 'N/S', 'Economic_Situation', 'Unemployed']\n"
     ]
    }
   ],
   "source": [
    "print('Nodes belonging to the Markov Blanket of \"Graduate\":\\n',\n",
    "      yu_net.get_markov_blanket('Graduate')) "
   ]
  },
  {
   "cell_type": "markdown",
   "metadata": {},
   "source": [
    "## Exact Inference - Variable Elimination"
   ]
  },
  {
   "cell_type": "markdown",
   "metadata": {},
   "source": [
    "Now i'm going to apply an exact inference method to obtain new informations from the net, the **Variable Elimination** algorithm:"
   ]
  },
  {
   "cell_type": "code",
   "execution_count": 9,
   "metadata": {},
   "outputs": [
    {
     "name": "stderr",
     "output_type": "stream",
     "text": [
      "Finding Elimination Order: : : 0it [00:00, ?it/s]\n",
      "0it [00:00, ?it/s]\u001b[A"
     ]
    },
    {
     "name": "stdout",
     "output_type": "stream",
     "text": [
      "Map_query execution to find the most probable combination of variables given 'Unemployed' = True:\n",
      "{'Gender': 1, 'N/S': 1, 'Economic_Situation': 1, 'Graduate': 0}\n"
     ]
    },
    {
     "name": "stderr",
     "output_type": "stream",
     "text": [
      "\n"
     ]
    }
   ],
   "source": [
    "yu_inference = VariableElimination(yu_net)\n",
    "print(\"Map_query execution to find the most probable combination of variables given 'Unemployed' = True:\")\n",
    "print(yu_inference.map_query(['Gender','N/S','Economic_Situation','Graduate'],{'Unemployed':1}))"
   ]
  },
  {
   "cell_type": "code",
   "execution_count": 10,
   "metadata": {},
   "outputs": [
    {
     "name": "stderr",
     "output_type": "stream",
     "text": [
      "\n",
      "  0%|                                                                                            | 0/4 [00:00<?, ?it/s]\u001b[A\n",
      "Finding Elimination Order: :   0%|                                                               | 0/4 [00:00<?, ?it/s]\u001b[A\n",
      "\n",
      "  0%|                                                                                            | 0/4 [00:00<?, ?it/s]\u001b[A\u001b[A\n",
      "\n",
      "Eliminating: Economic_Situation:   0%|                                                           | 0/4 [00:00<?, ?it/s]\u001b[A\u001b[A\n",
      "\n",
      "Eliminating: N/S:   0%|                                                                          | 0/4 [00:00<?, ?it/s]"
     ]
    },
    {
     "name": "stdout",
     "output_type": "stream",
     "text": [
      "P(Unemployed)\n"
     ]
    },
    {
     "name": "stderr",
     "output_type": "stream",
     "text": [
      "\u001b[A\u001b[A\n",
      "\n",
      "Eliminating: Graduate:   0%|                                                                     | 0/4 [00:00<?, ?it/s]\u001b[A\u001b[A\n",
      "\n",
      "Eliminating: Gender: 100%|██████████████████████████████████████████████████████████████| 4/4 [00:00<00:00, 161.92it/s]\u001b[A\u001b[A"
     ]
    },
    {
     "name": "stdout",
     "output_type": "stream",
     "text": [
      "+---------------+-------------------+\n",
      "| Unemployed    |   phi(Unemployed) |\n",
      "+===============+===================+\n",
      "| Unemployed(0) |            0.7803 |\n",
      "+---------------+-------------------+\n",
      "| Unemployed(1) |            0.2197 |\n",
      "+---------------+-------------------+\n"
     ]
    },
    {
     "name": "stderr",
     "output_type": "stream",
     "text": [
      "\n"
     ]
    }
   ],
   "source": [
    "print('P(Unemployed)')\n",
    "q = yu_inference.query(['Unemployed'])\n",
    "print(q)"
   ]
  },
  {
   "cell_type": "markdown",
   "metadata": {},
   "source": [
    "### Causal Reasoning"
   ]
  },
  {
   "cell_type": "markdown",
   "metadata": {},
   "source": [
    "Let's evaluate some effects given some causes:"
   ]
  },
  {
   "cell_type": "code",
   "execution_count": 11,
   "metadata": {},
   "outputs": [
    {
     "name": "stdout",
     "output_type": "stream",
     "text": [
      "P(Unemployed| Gender = True, N/S = True)\n"
     ]
    },
    {
     "name": "stderr",
     "output_type": "stream",
     "text": [
      "\n",
      "\n",
      "  0%|                                                                                            | 0/2 [00:00<?, ?it/s]\u001b[A\u001b[A\n",
      "\n",
      "Finding Elimination Order: :   0%|                                                               | 0/2 [00:00<?, ?it/s]\u001b[A\u001b[A\n",
      "\n",
      "\n",
      "  0%|                                                                                            | 0/2 [00:00<?, ?it/s]\u001b[A\u001b[A\u001b[A\n",
      "\n",
      "\n",
      "Eliminating: Economic_Situation:   0%|                                                           | 0/2 [00:00<?, ?it/s]\u001b[A\u001b[A\u001b[A\n",
      "\n",
      "\n",
      "Eliminating: Graduate: 100%|████████████████████████████████████████████████████████████| 2/2 [00:00<00:00, 178.69it/s]\u001b[A\u001b[A\u001b[A\n"
     ]
    },
    {
     "name": "stdout",
     "output_type": "stream",
     "text": [
      "+---------------+-------------------+\n",
      "| Unemployed    |   phi(Unemployed) |\n",
      "+===============+===================+\n",
      "| Unemployed(0) |            0.7640 |\n",
      "+---------------+-------------------+\n",
      "| Unemployed(1) |            0.2361 |\n",
      "+---------------+-------------------+\n",
      "P(Unemployed| Graduate = True, Economic Situation = True )\n"
     ]
    },
    {
     "name": "stderr",
     "output_type": "stream",
     "text": [
      "\n",
      "\n",
      "\n",
      "  0%|                                                                                            | 0/2 [00:00<?, ?it/s]\u001b[A\u001b[A\u001b[A\n",
      "\n",
      "\n",
      "Finding Elimination Order: :   0%|                                                               | 0/2 [00:00<?, ?it/s]\u001b[A\u001b[A\u001b[A\n",
      "\n",
      "\n",
      "Finding Elimination Order: : 100%|███████████████████████████████████████████████████████| 4/4 [00:40<00:00, 10.05s/it]\u001b[A\u001b[A\u001b[A\n",
      "\n",
      "\n",
      "\n",
      "Finding Elimination Order: : 100%|███████████████████████████████████████████████████████| 2/2 [01:20<00:00, 40.07s/it]\u001b[A\u001b[A\u001b[A\n",
      "\n",
      "  0%|                                                                                            | 0/2 [00:00<?, ?it/s]\u001b[A\n",
      "Eliminating: N/S:   0%|                                                                          | 0/2 [00:00<?, ?it/s]\u001b[A\n",
      "Eliminating: Gender: 100%|███████████████████████████████████████████████████████████████| 2/2 [00:00<00:00, 52.15it/s]\u001b[A"
     ]
    },
    {
     "name": "stdout",
     "output_type": "stream",
     "text": [
      "+---------------+-------------------+\n",
      "| Unemployed    |   phi(Unemployed) |\n",
      "+===============+===================+\n",
      "| Unemployed(0) |            0.9172 |\n",
      "+---------------+-------------------+\n",
      "| Unemployed(1) |            0.0828 |\n",
      "+---------------+-------------------+\n"
     ]
    },
    {
     "name": "stderr",
     "output_type": "stream",
     "text": [
      "\n"
     ]
    }
   ],
   "source": [
    "print('P(Unemployed| Gender = True, N/S = True)')\n",
    "q1_a = yu_inference.query(['Unemployed'],{'Gender':1,'N/S':1})\n",
    "print(q1_a)\n",
    "print('P(Unemployed| Graduate = True, Economic Situation = True )')\n",
    "q1_b = yu_inference.query(['Unemployed'],{'Graduate':1, 'Economic_Situation':1})\n",
    "print(q1_b)"
   ]
  },
  {
   "cell_type": "markdown",
   "metadata": {},
   "source": [
    "### Evidential Reasoning"
   ]
  },
  {
   "cell_type": "markdown",
   "metadata": {},
   "source": [
    "Let's evaluate some causes given the effects:"
   ]
  },
  {
   "cell_type": "markdown",
   "metadata": {},
   "source": [
    "With the first query, we'll evaluate the probability for a graduated person to be a female or a male."
   ]
  },
  {
   "cell_type": "code",
   "execution_count": 16,
   "metadata": {},
   "outputs": [
    {
     "name": "stderr",
     "output_type": "stream",
     "text": [
      "\n",
      "\n",
      "\n",
      "\n",
      "\n",
      "\n",
      "  0%|                                                                                            | 0/3 [00:00<?, ?it/s]\u001b[A\u001b[A\u001b[A\u001b[A\u001b[A\u001b[A\n",
      "\n",
      "\n",
      "\n",
      "\n",
      "\n",
      "Finding Elimination Order: :   0%|                                                               | 0/3 [00:00<?, ?it/s]\u001b[A\u001b[A\u001b[A\u001b[A\u001b[A\u001b[A\n",
      "\n",
      "\n",
      "\n",
      "\n",
      "\n",
      "\n",
      "  0%|                                                                                            | 0/3 [00:00<?, ?it/s]\u001b[A\u001b[A\u001b[A\u001b[A\u001b[A\u001b[A\u001b[A\n",
      "\n",
      "\n",
      "\n",
      "\n",
      "\n",
      "\n",
      "Eliminating: Unemployed:   0%|                                                                   | 0/3 [00:00<?, ?it/s]\u001b[A\u001b[A\u001b[A\u001b[A\u001b[A\u001b[A\u001b[A\n",
      "\n",
      "\n",
      "\n",
      "\n",
      "\n",
      "\n",
      "Eliminating: Economic_Situation:   0%|                                                           | 0/3 [00:00<?, ?it/s]\u001b[A\u001b[A\u001b[A\u001b[A\u001b[A\u001b[A\u001b[A\n",
      "\n",
      "\n",
      "\n",
      "\n",
      "\n",
      "\n",
      "Eliminating: N/S: 100%|██████████████████████████████████████████████████████████████████| 3/3 [00:00<00:00, 86.70it/s]\u001b[A\u001b[A\u001b[A\u001b[A\u001b[A\u001b[A\u001b[A"
     ]
    },
    {
     "name": "stdout",
     "output_type": "stream",
     "text": [
      "P(Gender| Graduate = True\n",
      "+-----------+---------------+\n",
      "| Gender    |   phi(Gender) |\n",
      "+===========+===============+\n",
      "| Gender(0) |        0.4285 |\n",
      "+-----------+---------------+\n",
      "| Gender(1) |        0.5715 |\n",
      "+-----------+---------------+\n"
     ]
    },
    {
     "name": "stderr",
     "output_type": "stream",
     "text": [
      "\n"
     ]
    }
   ],
   "source": [
    "print('P(Gender| Graduate = True')\n",
    "q2 = yu_inference.query(['Gender'],{'Graduate':1})\n",
    "print(q2)"
   ]
  },
  {
   "cell_type": "markdown",
   "metadata": {},
   "source": [
    "Now we'll see the probability for a person to be graduated, given that he's employed as evidence:"
   ]
  },
  {
   "cell_type": "code",
   "execution_count": 20,
   "metadata": {},
   "outputs": [
    {
     "name": "stderr",
     "output_type": "stream",
     "text": [
      "\n",
      "\n",
      "\n",
      "\n",
      "\n",
      "\n",
      "  0%|                                                                                            | 0/3 [00:00<?, ?it/s]\u001b[A\u001b[A\u001b[A\u001b[A\u001b[A\u001b[A\n",
      "\n",
      "\n",
      "\n",
      "\n",
      "\n",
      "Finding Elimination Order: :   0%|                                                               | 0/3 [00:00<?, ?it/s]\u001b[A\u001b[A\u001b[A\u001b[A\u001b[A\u001b[A\n",
      "\n",
      "\n",
      "\n",
      "\n",
      "\n",
      "\n",
      "  0%|                                                                                            | 0/3 [00:00<?, ?it/s]\u001b[A\u001b[A\u001b[A\u001b[A\u001b[A\u001b[A\u001b[A\n",
      "\n",
      "\n",
      "\n",
      "\n",
      "\n",
      "\n",
      "Eliminating: Economic_Situation:   0%|                                                           | 0/3 [00:00<?, ?it/s]\u001b[A\u001b[A\u001b[A\u001b[A\u001b[A\u001b[A\u001b[A\n",
      "\n",
      "\n",
      "\n",
      "\n",
      "\n",
      "\n",
      "Eliminating: N/S:   0%|                                                                          | 0/3 [00:00<?, ?it/s]\u001b[A\u001b[A\u001b[A\u001b[A\u001b[A\u001b[A\u001b[A\n",
      "\n",
      "\n",
      "\n",
      "\n",
      "\n",
      "\n",
      "Eliminating: Gender: 100%|██████████████████████████████████████████████████████████████| 3/3 [00:00<00:00, 250.63it/s]\u001b[A\u001b[A\u001b[A\u001b[A\u001b[A\u001b[A\u001b[A"
     ]
    },
    {
     "name": "stdout",
     "output_type": "stream",
     "text": [
      "P(Graduated| Unemployed = False )\n",
      "+-------------+-----------------+\n",
      "| Graduate    |   phi(Graduate) |\n",
      "+=============+=================+\n",
      "| Graduate(0) |          0.8833 |\n",
      "+-------------+-----------------+\n",
      "| Graduate(1) |          0.1167 |\n",
      "+-------------+-----------------+\n"
     ]
    },
    {
     "name": "stderr",
     "output_type": "stream",
     "text": [
      "\n"
     ]
    }
   ],
   "source": [
    "print('P(Graduated| Unemployed = False )')\n",
    "q3 = yu_inference.query(['Graduate'],{'Unemployed':0})\n",
    "print(q3) "
   ]
  },
  {
   "cell_type": "markdown",
   "metadata": {},
   "source": [
    "### Intercausal Reasoning"
   ]
  },
  {
   "cell_type": "markdown",
   "metadata": {},
   "source": [
    "Queries about mutual causes of a given effect:"
   ]
  },
  {
   "cell_type": "markdown",
   "metadata": {},
   "source": [
    "From the following query, we can see how given a graduated person, it has more probability to be a woman rather than a man and to come from North Italy rather than South Italy."
   ]
  },
  {
   "cell_type": "code",
   "execution_count": 21,
   "metadata": {},
   "outputs": [
    {
     "name": "stderr",
     "output_type": "stream",
     "text": [
      "\n",
      "\n",
      "\n",
      "\n",
      "\n",
      "\n",
      "\n",
      "  0%|                                                                                            | 0/2 [00:00<?, ?it/s]\u001b[A\u001b[A\u001b[A\u001b[A\u001b[A\u001b[A\u001b[A\n",
      "\n",
      "\n",
      "\n",
      "\n",
      "\n",
      "\n",
      "Finding Elimination Order: :   0%|                                                               | 0/2 [00:00<?, ?it/s]\u001b[A\u001b[A\u001b[A\u001b[A\u001b[A\u001b[A\u001b[A\n",
      "\n",
      "\n",
      "\n",
      "\n",
      "\n",
      "\n",
      "\n",
      "  0%|                                                                                            | 0/2 [00:00<?, ?it/s]\u001b[A\u001b[A\u001b[A\u001b[A\u001b[A\u001b[A\u001b[A\u001b[A\n",
      "\n",
      "\n",
      "\n",
      "\n",
      "\n",
      "\n",
      "\n",
      "Eliminating: Economic_Situation:   0%|                                                           | 0/2 [00:00<?, ?it/s]\u001b[A\u001b[A\u001b[A\u001b[A\u001b[A\u001b[A\u001b[A\u001b[A\n",
      "\n",
      "\n",
      "\n",
      "\n",
      "\n",
      "\n",
      "\n",
      "Eliminating: Unemployed: 100%|██████████████████████████████████████████████████████████| 2/2 [00:00<00:00, 334.35it/s]\u001b[A\u001b[A\u001b[A\u001b[A\u001b[A\u001b[A\u001b[A\u001b[A"
     ]
    },
    {
     "name": "stdout",
     "output_type": "stream",
     "text": [
      "P(Gender,N/S| Graduate = True)\n",
      "+-----------+--------+-------------------+\n",
      "| Gender    | N/S    |   phi(Gender,N/S) |\n",
      "+===========+========+===================+\n",
      "| Gender(0) | N/S(0) |            0.2649 |\n",
      "+-----------+--------+-------------------+\n",
      "| Gender(0) | N/S(1) |            0.1636 |\n",
      "+-----------+--------+-------------------+\n",
      "| Gender(1) | N/S(0) |            0.3374 |\n",
      "+-----------+--------+-------------------+\n",
      "| Gender(1) | N/S(1) |            0.2341 |\n",
      "+-----------+--------+-------------------+\n"
     ]
    },
    {
     "name": "stderr",
     "output_type": "stream",
     "text": [
      "\n"
     ]
    }
   ],
   "source": [
    "print('P(Gender,N/S| Graduate = True)')\n",
    "q4 = yu_inference.query(['Gender','N/S'],{'Graduate':1})\n",
    "print(q4)"
   ]
  },
  {
   "cell_type": "markdown",
   "metadata": {},
   "source": [
    "The sequent query tells us that an unemployed person is more likely to be nongraduate than graduate and female rather than male."
   ]
  },
  {
   "cell_type": "code",
   "execution_count": 22,
   "metadata": {},
   "outputs": [
    {
     "name": "stderr",
     "output_type": "stream",
     "text": [
      "\n",
      "\n",
      "\n",
      "\n",
      "\n",
      "\n",
      "\n",
      "\n",
      "  0%|                                                                                            | 0/2 [00:00<?, ?it/s]\u001b[A\u001b[A\u001b[A\u001b[A\u001b[A\u001b[A\u001b[A\u001b[A\n",
      "\n",
      "\n",
      "\n",
      "\n",
      "\n",
      "\n",
      "\n",
      "Finding Elimination Order: :   0%|                                                               | 0/2 [00:00<?, ?it/s]\u001b[A\u001b[A\u001b[A\u001b[A\u001b[A\u001b[A\u001b[A\u001b[A\n",
      "\n",
      "\n",
      "\n",
      "\n",
      "\n",
      "\n",
      "\n",
      "\n",
      "  0%|                                                                                            | 0/2 [00:00<?, ?it/s]\u001b[A\u001b[A\u001b[A\u001b[A\u001b[A\u001b[A\u001b[A\u001b[A\u001b[A\n",
      "\n",
      "\n",
      "\n",
      "\n",
      "\n",
      "\n",
      "\n",
      "\n",
      "Eliminating: Economic_Situation:   0%|                                                           | 0/2 [00:00<?, ?it/s]\u001b[A\u001b[A\u001b[A\u001b[A\u001b[A\u001b[A\u001b[A\u001b[A\u001b[A\n",
      "\n",
      "\n",
      "\n",
      "\n",
      "\n",
      "\n",
      "\n",
      "\n",
      "Eliminating: N/S: 100%|█████████████████████████████████████████████████████████████████| 2/2 [00:00<00:00, 286.02it/s]\u001b[A\u001b[A\u001b[A\u001b[A\u001b[A\u001b[A\u001b[A\u001b[A\u001b[A"
     ]
    },
    {
     "name": "stdout",
     "output_type": "stream",
     "text": [
      "P(Gender,Graduate| Unemployed = True)\n",
      "+-----------+-------------+------------------------+\n",
      "| Gender    | Graduate    |   phi(Gender,Graduate) |\n",
      "+===========+=============+========================+\n",
      "| Gender(0) | Graduate(0) |                 0.4581 |\n",
      "+-----------+-------------+------------------------+\n",
      "| Gender(0) | Graduate(1) |                 0.0116 |\n",
      "+-----------+-------------+------------------------+\n",
      "| Gender(1) | Graduate(0) |                 0.5044 |\n",
      "+-----------+-------------+------------------------+\n",
      "| Gender(1) | Graduate(1) |                 0.0258 |\n",
      "+-----------+-------------+------------------------+\n"
     ]
    },
    {
     "name": "stderr",
     "output_type": "stream",
     "text": [
      "\n"
     ]
    }
   ],
   "source": [
    "print('P(Gender,Graduate| Unemployed = True)')\n",
    "q5 = yu_inference.query(['Gender','Graduate'],{'Unemployed':1})\n",
    "print(q5) "
   ]
  },
  {
   "cell_type": "markdown",
   "metadata": {},
   "source": [
    "## Approximate Inference"
   ]
  },
  {
   "cell_type": "markdown",
   "metadata": {},
   "source": [
    "Variable elimination, in the worst case, can even have exponential time and space complexity.\n",
    "Thus, in large and multi connected networks, it is better to consider approximate inference methods rather than the exact ones. \n",
    "Let's see the behaviour of **Likelihood Weighting** and **Rejection sampling** with our net:"
   ]
  },
  {
   "cell_type": "markdown",
   "metadata": {},
   "source": [
    "Rather than Rejection Sampling, Likelihood Weighting only generates conistent events (w.r.t. the evidences) and uses all the samples generated. Therefore, it can be much more efficient. Nevertheless, increasing the number of evidence variables, its performance can get worse."
   ]
  },
  {
   "cell_type": "code",
   "execution_count": 27,
   "metadata": {},
   "outputs": [
    {
     "name": "stderr",
     "output_type": "stream",
     "text": [
      "Finding Elimination Order: :   0%|                                                               | 0/2 [00:00<?, ?it/s]\n",
      "  0%|                                                                                            | 0/2 [00:00<?, ?it/s]\u001b[A\n",
      "Eliminating: Economic_Situation:   0%|                                                           | 0/2 [00:00<?, ?it/s]\u001b[A\n",
      "Eliminating: Graduate: 100%|█████████████████████████████████████████████████████████████| 2/2 [00:00<00:00, 78.78it/s]\u001b[A\n"
     ]
    }
   ],
   "source": [
    "inference   = BayesianModelSampling(yu_net)\n",
    "evidence    = [State('Gender', 1),State('N/S', 1)]\n",
    "punemployed = yu_inference.query(['Unemployed'],{'Gender':1,'N/S':1}).values[1] #reference value\n",
    "\n",
    "def prob_LW(samples,variable):\n",
    "    return round(np.sum(np.dot(samples[variable],samples['_weight']))/np.sum(samples['_weight']),2)\n",
    "\n",
    "def absolute_error(exact_value,approx_value):\n",
    "    return np.absolute(exact_value-approx_value)\n",
    "\n",
    "def run_experiment(sample_size):\n",
    "    # Sample\n",
    "    samples_LW = inference.likelihood_weighted_sample(evidence = evidence, size=sample_size, return_type='recarray')\n",
    "    samples_RS = inference.rejection_sample(evidence=evidence, size=sample_size, return_type='recarray')\n",
    "\n",
    "    # Statistics\n",
    "    punemployed_LW = prob_LW(samples_LW,'Unemployed')\n",
    "    punemployed_RS = np.recarray.mean(samples_RS['Unemployed'], axis=0)\n",
    "    \n",
    "    \n",
    "    # Return results\n",
    "    return np.array([(sample_size, \n",
    "                      punemployed_RS, absolute_error(punemployed,punemployed_RS),\n",
    "                      punemployed_LW, absolute_error(punemployed,punemployed_LW))],\n",
    "                    dtype=[('sample_size', '<i8'), \n",
    "                           ('punemployed_RS', '<f8'),('e_unemployed_RS','<f8'),\n",
    "                           ('punemployed_LW', '<f8'),('e_unemployed_LW','<f8')])\n",
    "\n"
   ]
  },
  {
   "cell_type": "code",
   "execution_count": 28,
   "metadata": {},
   "outputs": [
    {
     "name": "stderr",
     "output_type": "stream",
     "text": [
      "\n",
      "  0%|                                                                                           | 0/10 [00:00<?, ?it/s]\u001b[A\n",
      "\n",
      "  0%|                                                                                            | 0/5 [00:00<?, ?it/s]\u001b[A\u001b[A\n",
      "\n",
      "Generating for node: N/S:   0%|                                                                  | 0/5 [00:00<?, ?it/s]\u001b[A\u001b[A\n",
      "\n",
      "Generating for node: Economic_Situation:   0%|                                                   | 0/5 [00:00<?, ?it/s]\u001b[A\u001b[A\n",
      "\n",
      "Generating for node: Gender:   0%|                                                               | 0/5 [00:00<?, ?it/s]\u001b[A\u001b[A\n",
      "\n",
      "Generating for node: Graduate:   0%|                                                             | 0/5 [00:00<?, ?it/s]\u001b[A\u001b[A\n",
      "\n",
      "Generating for node: Unemployed: 100%|███████████████████████████████████████████████████| 5/5 [00:00<00:00, 69.12it/s]\u001b[A\u001b[A\n",
      "\n",
      "\n",
      "  0%|                                                                                            | 0/5 [00:00<?, ?it/s]\u001b[A\u001b[A\n",
      "\n",
      "Generating for node: N/S:   0%|                                                                  | 0/5 [00:00<?, ?it/s]\u001b[A\u001b[A\n",
      "\n",
      "Generating for node: Economic_Situation:   0%|                                                   | 0/5 [00:00<?, ?it/s]\u001b[A\u001b[A\n",
      "\n",
      "Generating for node: Gender:   0%|                                                               | 0/5 [00:00<?, ?it/s]\u001b[A\u001b[A\n",
      "\n",
      "Generating for node: Graduate:   0%|                                                             | 0/5 [00:00<?, ?it/s]\u001b[A\u001b[A\n",
      "\n",
      "Generating for node: Graduate:  80%|██████████████████████████████████████████▍          | 4/5 [00:00<00:00, 39.46it/s]\u001b[A\u001b[A\n",
      "\n",
      "Generating for node: Unemployed: 100%|███████████████████████████████████████████████████| 5/5 [00:00<00:00, 34.86it/s]\u001b[A\u001b[A\n",
      "\n",
      "27it [00:00, 106.92it/s]                                                                                               \u001b[A\n",
      "\n",
      "  0%|                                                                                           | 0/16 [00:00<?, ?it/s]\u001b[A\n",
      "\n",
      "  0%|                                                                                            | 0/5 [00:00<?, ?it/s]\u001b[A\u001b[A\n",
      "\n",
      "Generating for node: N/S:   0%|                                                                  | 0/5 [00:00<?, ?it/s]\u001b[A\u001b[A\n",
      "\n",
      "Generating for node: Economic_Situation:   0%|                                                   | 0/5 [00:00<?, ?it/s]\u001b[A\u001b[A\n",
      "\n",
      "Generating for node: Gender:   0%|                                                               | 0/5 [00:00<?, ?it/s]\u001b[A\u001b[A\n",
      "\n",
      "Generating for node: Graduate:   0%|                                                             | 0/5 [00:00<?, ?it/s]\u001b[A\u001b[A\n",
      "\n",
      "Generating for node: Unemployed: 100%|██████████████████████████████████████████████████| 5/5 [00:00<00:00, 147.70it/s]\u001b[A\u001b[A\n",
      "\n",
      "\n",
      "  0%|                                                                                            | 0/5 [00:00<?, ?it/s]\u001b[A\u001b[A\n",
      "\n",
      "Generating for node: N/S:   0%|                                                                  | 0/5 [00:00<?, ?it/s]\u001b[A\u001b[A\n",
      "\n",
      "Generating for node: Economic_Situation:   0%|                                                   | 0/5 [00:00<?, ?it/s]\u001b[A\u001b[A\n",
      "\n",
      "Generating for node: Gender:   0%|                                                               | 0/5 [00:00<?, ?it/s]\u001b[A\u001b[A\n",
      "\n",
      "Generating for node: Graduate:   0%|                                                             | 0/5 [00:00<?, ?it/s]\u001b[A\u001b[A\n",
      "\n",
      "Generating for node: Unemployed: 100%|██████████████████████████████████████████████████| 5/5 [00:00<00:00, 147.13it/s]\u001b[A\u001b[A\n",
      "\n",
      "\n",
      "  0%|                                                                                            | 0/5 [00:00<?, ?it/s]\u001b[A\u001b[A\n",
      "\n",
      "Generating for node: N/S:   0%|                                                                  | 0/5 [00:00<?, ?it/s]\u001b[A\u001b[A\n",
      "\n",
      "Finding Elimination Order: : 100%|███████████████████████████████████████████████████████| 2/2 [00:30<00:00, 15.45s/it]\u001b[A\u001b[A\n",
      "\n",
      "\n",
      "Generating for node: Economic_Situation:  40%|█████████████████▏                         | 2/5 [00:40<00:45, 15.02s/it]\u001b[A\u001b[A\n",
      "\n",
      "Generating for node: Gender:  40%|██████████████████████                                 | 2/5 [00:40<00:45, 15.02s/it]\u001b[A\u001b[A\n",
      "\n",
      "Generating for node: Gender:  60%|█████████████████████████████████                      | 3/5 [00:40<00:27, 13.52s/it]\u001b[A\u001b[A\n",
      "\n",
      "Generating for node: Graduate:  60%|███████████████████████████████▊                     | 3/5 [00:40<00:27, 13.52s/it]\u001b[A\u001b[A\n",
      "\n",
      "Generating for node: Unemployed: 100%|███████████████████████████████████████████████████| 5/5 [00:40<00:00,  8.02s/it]\u001b[A\u001b[A\n",
      "\n",
      "23it [00:40,  1.75s/it]                                                                                                \u001b[A\n",
      "  0%|                                                                                           | 0/26 [00:00<?, ?it/s]\n",
      "  0%|                                                                                            | 0/5 [00:00<?, ?it/s]\u001b[A\n",
      "Generating for node: N/S:   0%|                                                                  | 0/5 [00:00<?, ?it/s]\u001b[A\n",
      "Generating for node: Economic_Situation:   0%|                                                   | 0/5 [00:00<?, ?it/s]\u001b[A\n",
      "Generating for node: Gender:   0%|                                                               | 0/5 [00:00<?, ?it/s]\u001b[A\n",
      "Generating for node: Graduate:   0%|                                                             | 0/5 [00:00<?, ?it/s]\u001b[A\n",
      "Generating for node: Unemployed: 100%|███████████████████████████████████████████████████| 5/5 [00:00<00:00, 67.78it/s]\u001b[A\n",
      "\n",
      "  0%|                                                                                            | 0/5 [00:00<?, ?it/s]\u001b[A\n",
      "Generating for node: N/S:   0%|                                                                  | 0/5 [00:00<?, ?it/s]\u001b[A\n",
      "Generating for node: Economic_Situation:   0%|                                                   | 0/5 [00:00<?, ?it/s]\u001b[A\n",
      "Generating for node: Gender:   0%|                                                               | 0/5 [00:00<?, ?it/s]\u001b[A\n",
      "Generating for node: Graduate:   0%|                                                             | 0/5 [00:00<?, ?it/s]\u001b[A\n",
      "Generating for node: Unemployed: 100%|███████████████████████████████████████████████████| 5/5 [00:00<00:00, 72.97it/s]\u001b[A\n",
      " 92%|██████████████████████████████████████████████████████████████████████████▊      | 24/26 [00:00<00:00, 142.08it/s]\n",
      "  0%|                                                                                            | 0/5 [00:00<?, ?it/s]\u001b[A\n",
      "Generating for node: N/S:   0%|                                                                  | 0/5 [00:00<?, ?it/s]\u001b[A\n",
      "Generating for node: Economic_Situation:   0%|                                                   | 0/5 [00:00<?, ?it/s]\u001b[A\n",
      "Generating for node: Gender:   0%|                                                               | 0/5 [00:00<?, ?it/s]\u001b[A\n",
      "Generating for node: Graduate:   0%|                                                             | 0/5 [00:00<?, ?it/s]\u001b[A\n",
      "Generating for node: Unemployed: 100%|███████████████████████████████████████████████████| 5/5 [00:00<00:00, 80.77it/s]\u001b[A\n",
      "27it [00:00, 111.67it/s]                                                                                               \n",
      "  0%|                                                                                           | 0/42 [00:00<?, ?it/s]\n",
      "  0%|                                                                                            | 0/5 [00:00<?, ?it/s]\u001b[A\n",
      "Generating for node: N/S:   0%|                                                                  | 0/5 [00:00<?, ?it/s]\u001b[A\n",
      "Generating for node: Economic_Situation:   0%|                                                   | 0/5 [00:00<?, ?it/s]\u001b[A\n",
      "Generating for node: Gender:   0%|                                                               | 0/5 [00:00<?, ?it/s]\u001b[A\n",
      "Generating for node: Graduate:   0%|                                                             | 0/5 [00:00<?, ?it/s]\u001b[A\n",
      "Generating for node: Unemployed: 100%|███████████████████████████████████████████████████| 5/5 [00:00<00:00, 76.63it/s]\u001b[A\n",
      "\n"
     ]
    },
    {
     "name": "stderr",
     "output_type": "stream",
     "text": [
      "  0%|                                                                                            | 0/5 [00:00<?, ?it/s]\u001b[A\n",
      "Generating for node: N/S:   0%|                                                                  | 0/5 [00:00<?, ?it/s]\u001b[A\n",
      "Generating for node: Economic_Situation:   0%|                                                   | 0/5 [00:00<?, ?it/s]\u001b[A\n",
      "Generating for node: Gender:   0%|                                                               | 0/5 [00:00<?, ?it/s]\u001b[A\n",
      "Generating for node: Graduate:   0%|                                                             | 0/5 [00:00<?, ?it/s]\u001b[A\n",
      "Generating for node: Unemployed:   0%|                                                           | 0/5 [00:00<?, ?it/s]\u001b[A\n",
      "Generating for node: Unemployed: 100%|███████████████████████████████████████████████████| 5/5 [00:00<00:00, 38.15it/s]\u001b[A\n",
      "45it [00:00, 194.00it/s]                                                                                               \n",
      "  0%|                                                                                           | 0/69 [00:00<?, ?it/s]\n",
      "  0%|                                                                                            | 0/5 [00:00<?, ?it/s]\u001b[A\n",
      "Generating for node: N/S:   0%|                                                                  | 0/5 [00:00<?, ?it/s]\u001b[A\n",
      "Generating for node: Economic_Situation:   0%|                                                   | 0/5 [00:00<?, ?it/s]\u001b[A\n",
      "Generating for node: Gender:   0%|                                                               | 0/5 [00:00<?, ?it/s]\u001b[A\n",
      "Generating for node: Graduate:   0%|                                                             | 0/5 [00:00<?, ?it/s]\u001b[A\n",
      "Generating for node: Unemployed: 100%|███████████████████████████████████████████████████| 5/5 [00:00<00:00, 67.62it/s]\u001b[A\n",
      "\n",
      "  0%|                                                                                            | 0/5 [00:00<?, ?it/s]\u001b[A\n",
      "Generating for node: N/S:   0%|                                                                  | 0/5 [00:00<?, ?it/s]\u001b[A\n",
      "Generating for node: Economic_Situation:   0%|                                                   | 0/5 [00:00<?, ?it/s]\u001b[A\n",
      "Generating for node: Gender:   0%|                                                               | 0/5 [00:00<?, ?it/s]\u001b[A\n",
      "Generating for node: Graduate:   0%|                                                             | 0/5 [00:00<?, ?it/s]\u001b[A\n",
      "Generating for node: Graduate:  80%|██████████████████████████████████████████▍          | 4/5 [00:00<00:00, 38.13it/s]\u001b[A\n",
      "Generating for node: Unemployed: 100%|███████████████████████████████████████████████████| 5/5 [00:00<00:00, 30.42it/s]\u001b[A\n",
      "82it [00:00, 305.58it/s]                                                                                               \n",
      "  0%|                                                                                          | 0/112 [00:00<?, ?it/s]\n",
      "  0%|                                                                                            | 0/5 [00:00<?, ?it/s]\u001b[A\n",
      "Generating for node: N/S:   0%|                                                                  | 0/5 [00:00<?, ?it/s]\u001b[A\n",
      "Generating for node: Economic_Situation:   0%|                                                   | 0/5 [00:00<?, ?it/s]\u001b[A\n",
      "Generating for node: Gender:   0%|                                                               | 0/5 [00:00<?, ?it/s]\u001b[A\n",
      "Generating for node: Graduate:   0%|                                                             | 0/5 [00:00<?, ?it/s]\u001b[A\n",
      "Generating for node: Graduate:  80%|██████████████████████████████████████████▍          | 4/5 [00:00<00:00, 39.17it/s]\u001b[A\n",
      "Generating for node: Unemployed: 100%|███████████████████████████████████████████████████| 5/5 [00:00<00:00, 33.26it/s]\u001b[A\n",
      " 33%|██████████████████████████▍                                                     | 37/112 [00:00<00:00, 214.30it/s]\n",
      "  0%|                                                                                            | 0/5 [00:00<?, ?it/s]\u001b[A\n",
      "Generating for node: N/S:   0%|                                                                  | 0/5 [00:00<?, ?it/s]\u001b[A\n",
      "Generating for node: Economic_Situation:   0%|                                                   | 0/5 [00:00<?, ?it/s]\u001b[A\n",
      "Generating for node: Economic_Situation:  40%|█████████████████▏                         | 2/5 [00:00<00:00, 19.90it/s]\u001b[A\n",
      "Generating for node: Gender:  40%|██████████████████████                                 | 2/5 [00:00<00:00, 19.90it/s]\u001b[A\n",
      "Generating for node: Graduate:  40%|█████████████████████▏                               | 2/5 [00:00<00:00, 19.90it/s]\u001b[A\n",
      "Generating for node: Unemployed:  40%|████████████████████▍                              | 2/5 [00:00<00:00, 19.90it/s]\u001b[A\n",
      "Generating for node: Unemployed: 100%|███████████████████████████████████████████████████| 5/5 [00:00<00:00, 17.45it/s]\u001b[A\n",
      "172it [00:00, 365.86it/s]                                                                                              \n",
      "  0%|                                                                                          | 0/183 [00:00<?, ?it/s]\n",
      "  0%|                                                                                            | 0/5 [00:00<?, ?it/s]\u001b[A\n",
      "Generating for node: N/S:   0%|                                                                  | 0/5 [00:00<?, ?it/s]\u001b[A\n",
      "Generating for node: Economic_Situation:   0%|                                                   | 0/5 [00:00<?, ?it/s]\u001b[A\n",
      "Generating for node: Gender:   0%|                                                               | 0/5 [00:00<?, ?it/s]\u001b[A\n",
      "Generating for node: Graduate:   0%|                                                             | 0/5 [00:00<?, ?it/s]\u001b[A\n",
      "Generating for node: Graduate:  80%|██████████████████████████████████████████▍          | 4/5 [00:00<00:00, 30.69it/s]\u001b[A\n",
      "Generating for node: Unemployed: 100%|███████████████████████████████████████████████████| 5/5 [00:00<00:00, 24.45it/s]\u001b[A\n",
      " 34%|███████████████████████████                                                     | 62/183 [00:00<00:00, 285.98it/s]\n",
      "  0%|                                                                                            | 0/5 [00:00<?, ?it/s]\u001b[A\n",
      "Generating for node: N/S:   0%|                                                                  | 0/5 [00:00<?, ?it/s]\u001b[A\n",
      "Generating for node: Economic_Situation:   0%|                                                   | 0/5 [00:00<?, ?it/s]\u001b[A\n",
      "Generating for node: Economic_Situation:  40%|█████████████████▏                         | 2/5 [00:00<00:00, 16.17it/s]\u001b[A\n",
      "Generating for node: Gender:  40%|██████████████████████                                 | 2/5 [00:00<00:00, 16.17it/s]\u001b[A\n",
      "Generating for node: Graduate:  40%|█████████████████████▏                               | 2/5 [00:00<00:00, 16.17it/s]\u001b[A\n",
      "Generating for node: Unemployed:  40%|████████████████████▍                              | 2/5 [00:00<00:00, 16.17it/s]\u001b[A\n",
      "Generating for node: Unemployed: 100%|███████████████████████████████████████████████████| 5/5 [00:00<00:00, 18.64it/s]\u001b[A\n",
      "254it [00:00, 508.90it/s]                                                                                              \n",
      "  0%|                                                                                          | 0/297 [00:00<?, ?it/s]\n",
      "  0%|                                                                                            | 0/5 [00:00<?, ?it/s]\u001b[A\n",
      "Generating for node: N/S:   0%|                                                                  | 0/5 [00:00<?, ?it/s]\u001b[A\n",
      "Generating for node: Economic_Situation:   0%|                                                   | 0/5 [00:00<?, ?it/s]\u001b[A\n",
      "Generating for node: Gender:   0%|                                                               | 0/5 [00:00<?, ?it/s]\u001b[A\n",
      "Generating for node: Graduate:   0%|                                                             | 0/5 [00:00<?, ?it/s]\u001b[A\n",
      "Generating for node: Unemployed:   0%|                                                           | 0/5 [00:00<?, ?it/s]\u001b[A\n"
     ]
    },
    {
     "name": "stderr",
     "output_type": "stream",
     "text": [
      "Generating for node: Unemployed: 100%|███████████████████████████████████████████████████| 5/5 [00:00<00:00, 43.49it/s]\u001b[A\n",
      " 37%|█████████████████████████████▌                                                 | 111/297 [00:00<00:00, 924.90it/s]\n",
      "  0%|                                                                                            | 0/5 [00:00<?, ?it/s]\u001b[A\n",
      "Generating for node: N/S:   0%|                                                                  | 0/5 [00:00<?, ?it/s]\u001b[A\n",
      "Generating for node: Economic_Situation:   0%|                                                   | 0/5 [00:00<?, ?it/s]\u001b[A\n",
      "Generating for node: Gender:   0%|                                                               | 0/5 [00:00<?, ?it/s]\u001b[A\n",
      "Generating for node: Gender:  60%|█████████████████████████████████                      | 3/5 [00:00<00:00, 28.52it/s]\u001b[A\n",
      "Generating for node: Graduate:  60%|███████████████████████████████▊                     | 3/5 [00:00<00:00, 28.52it/s]\u001b[A\n",
      "Generating for node: Unemployed:  60%|██████████████████████████████▌                    | 3/5 [00:00<00:00, 28.52it/s]\u001b[A\n",
      "Generating for node: Unemployed: 100%|███████████████████████████████████████████████████| 5/5 [00:00<00:00, 18.36it/s]\u001b[A\n",
      "396it [00:00, 975.58it/s]                                                                                              \n",
      "  0%|                                                                                          | 0/483 [00:00<?, ?it/s]\n",
      "  0%|                                                                                            | 0/5 [00:00<?, ?it/s]\u001b[A\n",
      "Generating for node: N/S:   0%|                                                                  | 0/5 [00:00<?, ?it/s]\u001b[A\n",
      "Generating for node: Economic_Situation:   0%|                                                   | 0/5 [00:00<?, ?it/s]\u001b[A\n",
      "Generating for node: Gender:   0%|                                                               | 0/5 [00:00<?, ?it/s]\u001b[A\n",
      "Generating for node: Graduate:   0%|                                                             | 0/5 [00:00<?, ?it/s]\u001b[A\n",
      "Generating for node: Graduate:  80%|██████████████████████████████████████████▍          | 4/5 [00:00<00:00, 34.17it/s]\u001b[A\n",
      "Generating for node: Unemployed: 100%|███████████████████████████████████████████████████| 5/5 [00:00<00:00, 25.28it/s]\u001b[A\n",
      " 35%|███████████████████████████▉                                                   | 171/483 [00:00<00:00, 846.74it/s]\n",
      "  0%|                                                                                            | 0/5 [00:00<?, ?it/s]\u001b[A\n",
      "Generating for node: N/S:   0%|                                                                  | 0/5 [00:00<?, ?it/s]\u001b[A\n",
      "Generating for node: Economic_Situation:   0%|                                                   | 0/5 [00:00<?, ?it/s]\u001b[A\n",
      "Generating for node: Economic_Situation:  40%|█████████████████▏                         | 2/5 [00:00<00:00, 10.59it/s]\u001b[A\n",
      "Generating for node: Gender:  40%|██████████████████████                                 | 2/5 [00:00<00:00, 10.59it/s]\u001b[A\n",
      "Generating for node: Graduate:  40%|█████████████████████▏                               | 2/5 [00:00<00:00, 10.59it/s]\u001b[A\n",
      "Generating for node: Graduate:  80%|██████████████████████████████████████████▍          | 4/5 [00:00<00:00, 10.67it/s]\u001b[A\n",
      "Generating for node: Unemployed:  80%|████████████████████████████████████████▊          | 4/5 [00:00<00:00, 10.67it/s]\u001b[A\n",
      "Generating for node: Unemployed: 100%|███████████████████████████████████████████████████| 5/5 [00:00<00:00,  9.17it/s]\u001b[A\n",
      "677it [00:00, 881.36it/s]                                                                                              \n",
      "  0%|                                                                                          | 0/784 [00:00<?, ?it/s]\n",
      "  0%|                                                                                            | 0/5 [00:00<?, ?it/s]\u001b[A\n",
      "Generating for node: N/S:   0%|                                                                  | 0/5 [00:00<?, ?it/s]\u001b[A\n",
      "Generating for node: Economic_Situation:   0%|                                                   | 0/5 [00:00<?, ?it/s]\u001b[A\n",
      "Generating for node: Economic_Situation:  40%|█████████████████▏                         | 2/5 [00:00<00:00, 19.22it/s]\u001b[A\n",
      "Generating for node: Gender:  40%|██████████████████████                                 | 2/5 [00:00<00:00, 19.22it/s]\u001b[A\n",
      "Generating for node: Graduate:  40%|█████████████████████▏                               | 2/5 [00:00<00:00, 19.22it/s]\u001b[A\n",
      "Generating for node: Graduate:  80%|██████████████████████████████████████████▍          | 4/5 [00:00<00:00, 17.73it/s]\u001b[A\n",
      "Generating for node: Unemployed:  80%|████████████████████████████████████████▊          | 4/5 [00:00<00:00, 17.73it/s]\u001b[A\n",
      "Generating for node: Unemployed: 100%|███████████████████████████████████████████████████| 5/5 [00:00<00:00, 13.16it/s]\u001b[A\n",
      " 39%|██████████████████████████████▊                                                | 306/784 [00:00<00:00, 769.06it/s]\n",
      "  0%|                                                                                            | 0/5 [00:00<?, ?it/s]\u001b[A\n",
      "Generating for node: N/S:   0%|                                                                  | 0/5 [00:00<?, ?it/s]\u001b[A\n",
      "Generating for node: Economic_Situation:   0%|                                                   | 0/5 [00:00<?, ?it/s]\u001b[A\n",
      "Generating for node: Economic_Situation:  40%|█████████████████▏                         | 2/5 [00:00<00:00, 10.25it/s]\u001b[A\n",
      "Generating for node: Gender:  40%|██████████████████████                                 | 2/5 [00:00<00:00, 10.25it/s]\u001b[A\n",
      "Generating for node: Graduate:  40%|█████████████████████▏                               | 2/5 [00:00<00:00, 10.25it/s]\u001b[A\n",
      "Generating for node: Graduate:  80%|██████████████████████████████████████████▍          | 4/5 [00:00<00:00,  9.95it/s]\u001b[A\n",
      "Generating for node: Unemployed:  80%|████████████████████████████████████████▊          | 4/5 [00:00<00:00,  9.95it/s]\u001b[A\n",
      "Generating for node: Unemployed: 100%|███████████████████████████████████████████████████| 5/5 [00:00<00:00,  8.19it/s]\u001b[A\n",
      "1032it [00:01, 1000.57it/s]                                                                                            \n",
      "  0%|                                                                                         | 0/1274 [00:00<?, ?it/s]\n",
      "  0%|                                                                                            | 0/5 [00:00<?, ?it/s]\u001b[A\n",
      "Generating for node: N/S:   0%|                                                                  | 0/5 [00:00<?, ?it/s]\u001b[A\n",
      "Generating for node: Economic_Situation:   0%|                                                   | 0/5 [00:00<?, ?it/s]\u001b[A\n",
      "Generating for node: Economic_Situation:  40%|█████████████████▏                         | 2/5 [00:00<00:00, 17.29it/s]\u001b[A\n",
      "Generating for node: Gender:  40%|██████████████████████                                 | 2/5 [00:00<00:00, 17.29it/s]\u001b[A\n",
      "Generating for node: Graduate:  40%|█████████████████████▏                               | 2/5 [00:00<00:00, 17.29it/s]\u001b[A\n",
      "Generating for node: Graduate:  80%|██████████████████████████████████████████▍          | 4/5 [00:00<00:00, 15.27it/s]\u001b[A\n",
      "Generating for node: Unemployed:  80%|████████████████████████████████████████▊          | 4/5 [00:00<00:00, 15.27it/s]\u001b[A\n",
      "Generating for node: Unemployed: 100%|███████████████████████████████████████████████████| 5/5 [00:00<00:00, 11.12it/s]\u001b[A\n",
      " 35%|███████████████████████████                                                   | 442/1274 [00:00<00:00, 941.33it/s]\n",
      "  0%|                                                                                            | 0/5 [00:00<?, ?it/s]\u001b[A\n",
      "Generating for node: N/S:   0%|                                                                  | 0/5 [00:00<?, ?it/s]\u001b[A\n",
      "Generating for node: Economic_Situation:   0%|                                                   | 0/5 [00:00<?, ?it/s]\u001b[A\n",
      "Generating for node: Economic_Situation:  40%|█████████████████▏                         | 2/5 [00:00<00:00,  5.61it/s]\u001b[A\n"
     ]
    },
    {
     "name": "stderr",
     "output_type": "stream",
     "text": [
      "Generating for node: Gender:  40%|██████████████████████                                 | 2/5 [00:00<00:00,  5.61it/s]\u001b[A\n",
      "Generating for node: Graduate:  40%|█████████████████████▏                               | 2/5 [00:00<00:00,  5.61it/s]\u001b[A\n",
      "Generating for node: Graduate:  80%|██████████████████████████████████████████▍          | 4/5 [00:00<00:00,  5.41it/s]\u001b[A\n",
      "Generating for node: Unemployed:  80%|████████████████████████████████████████▊          | 4/5 [00:00<00:00,  5.41it/s]\u001b[A\n",
      "Generating for node: Unemployed: 100%|███████████████████████████████████████████████████| 5/5 [00:01<00:00,  4.46it/s]\u001b[A\n",
      "1770it [00:01, 1104.09it/s]                                                                                            \n",
      "  0%|                                                                                         | 0/2069 [00:00<?, ?it/s]\n",
      "  0%|                                                                                            | 0/5 [00:00<?, ?it/s]\u001b[A\n",
      "Generating for node: N/S:   0%|                                                                  | 0/5 [00:00<?, ?it/s]\u001b[A\n",
      "Generating for node: Economic_Situation:   0%|                                                   | 0/5 [00:00<?, ?it/s]\u001b[A\n",
      "Generating for node: Economic_Situation:  40%|█████████████████▏                         | 2/5 [00:00<00:00,  9.27it/s]\u001b[A\n",
      "Generating for node: Gender:  40%|██████████████████████                                 | 2/5 [00:00<00:00,  9.27it/s]\u001b[A\n",
      "Generating for node: Graduate:  40%|█████████████████████▏                               | 2/5 [00:00<00:00,  9.27it/s]\u001b[A\n",
      "Generating for node: Graduate:  80%|██████████████████████████████████████████▍          | 4/5 [00:00<00:00,  9.24it/s]\u001b[A\n",
      "Generating for node: Unemployed:  80%|████████████████████████████████████████▊          | 4/5 [00:00<00:00,  9.24it/s]\u001b[A\n",
      "Generating for node: Unemployed: 100%|███████████████████████████████████████████████████| 5/5 [00:00<00:00,  7.73it/s]\u001b[A\n",
      " 36%|████████████████████████████                                                 | 754/2069 [00:00<00:01, 1153.03it/s]\n",
      "  0%|                                                                                            | 0/5 [00:00<?, ?it/s]\u001b[A\n",
      "Generating for node: N/S:   0%|                                                                  | 0/5 [00:00<?, ?it/s]\u001b[A\n",
      "Generating for node: Economic_Situation:   0%|                                                   | 0/5 [00:00<?, ?it/s]\u001b[A\n",
      "Generating for node: Economic_Situation:  40%|█████████████████▏                         | 2/5 [00:00<00:00,  3.83it/s]\u001b[A\n",
      "Generating for node: Gender:  40%|██████████████████████                                 | 2/5 [00:00<00:00,  3.83it/s]\u001b[A\n",
      "Generating for node: Graduate:  40%|█████████████████████▏                               | 2/5 [00:00<00:00,  3.83it/s]\u001b[A\n",
      "Generating for node: Graduate:  80%|██████████████████████████████████████████▍          | 4/5 [00:01<00:00,  3.79it/s]\u001b[A\n",
      "Generating for node: Unemployed:  80%|████████████████████████████████████████▊          | 4/5 [00:01<00:00,  3.79it/s]\u001b[A\n",
      "Generating for node: Unemployed: 100%|███████████████████████████████████████████████████| 5/5 [00:01<00:00,  3.12it/s]\u001b[A\n",
      "2773it [00:02, 1222.89it/s]                                                                                            \n",
      "  0%|                                                                                         | 0/3359 [00:00<?, ?it/s]\n",
      "  0%|                                                                                            | 0/5 [00:00<?, ?it/s]\u001b[A\n",
      "Generating for node: N/S:   0%|                                                                  | 0/5 [00:00<?, ?it/s]\u001b[A\n",
      "Generating for node: Economic_Situation:   0%|                                                   | 0/5 [00:00<?, ?it/s]\u001b[A\n",
      "Generating for node: Economic_Situation:  40%|█████████████████▏                         | 2/5 [00:00<00:00,  6.08it/s]\u001b[A\n",
      "Generating for node: Gender:  40%|██████████████████████                                 | 2/5 [00:00<00:00,  6.08it/s]\u001b[A\n",
      "Generating for node: Graduate:  40%|█████████████████████▏                               | 2/5 [00:00<00:00,  6.08it/s]\u001b[A\n",
      "Generating for node: Graduate:  80%|██████████████████████████████████████████▍          | 4/5 [00:00<00:00,  5.96it/s]\u001b[A\n",
      "Generating for node: Unemployed:  80%|████████████████████████████████████████▊          | 4/5 [00:00<00:00,  5.96it/s]\u001b[A\n",
      "Generating for node: Unemployed: 100%|███████████████████████████████████████████████████| 5/5 [00:01<00:00,  4.87it/s]\u001b[A\n",
      " 37%|███████████████████████████▉                                                | 1235/3359 [00:01<00:01, 1194.34it/s]\n",
      "  0%|                                                                                            | 0/5 [00:00<?, ?it/s]\u001b[A\n",
      "Generating for node: N/S:   0%|                                                                  | 0/5 [00:00<?, ?it/s]\u001b[A\n",
      "Generating for node: Economic_Situation:   0%|                                                   | 0/5 [00:00<?, ?it/s]\u001b[A\n",
      "Generating for node: Economic_Situation:  40%|█████████████████▏                         | 2/5 [00:00<00:01,  2.42it/s]\u001b[A\n",
      "Generating for node: Gender:  40%|██████████████████████                                 | 2/5 [00:00<00:01,  2.42it/s]\u001b[A\n",
      "Generating for node: Graduate:  40%|█████████████████████▏                               | 2/5 [00:00<00:01,  2.42it/s]\u001b[A\n",
      "Generating for node: Graduate:  80%|██████████████████████████████████████████▍          | 4/5 [00:01<00:00,  2.42it/s]\u001b[A\n",
      "Generating for node: Unemployed:  80%|████████████████████████████████████████▊          | 4/5 [00:01<00:00,  2.42it/s]\u001b[A\n",
      "Generating for node: Unemployed: 100%|███████████████████████████████████████████████████| 5/5 [00:02<00:00,  2.01it/s]\u001b[A\n",
      "4436it [00:03, 1254.53it/s]                                                                                            \n",
      "  0%|                                                                                         | 0/5455 [00:00<?, ?it/s]\n",
      "  0%|                                                                                            | 0/5 [00:00<?, ?it/s]\u001b[A\n",
      "Generating for node: N/S:   0%|                                                                  | 0/5 [00:00<?, ?it/s]\u001b[A\n",
      "Generating for node: Economic_Situation:   0%|                                                   | 0/5 [00:00<?, ?it/s]\u001b[A\n",
      "Generating for node: Economic_Situation:  40%|█████████████████▏                         | 2/5 [00:00<00:00,  3.78it/s]\u001b[A\n",
      "Generating for node: Gender:  40%|██████████████████████                                 | 2/5 [00:00<00:00,  3.78it/s]\u001b[A\n",
      "Generating for node: Graduate:  40%|█████████████████████▏                               | 2/5 [00:00<00:00,  3.78it/s]\u001b[A\n",
      "Generating for node: Graduate:  80%|██████████████████████████████████████████▍          | 4/5 [00:01<00:00,  3.77it/s]\u001b[A\n",
      "Generating for node: Unemployed:  80%|████████████████████████████████████████▊          | 4/5 [00:01<00:00,  3.77it/s]\u001b[A\n",
      "Generating for node: Unemployed: 100%|███████████████████████████████████████████████████| 5/5 [00:01<00:00,  3.07it/s]\u001b[A\n",
      " 37%|████████████████████████████▍                                               | 2040/5455 [00:01<00:02, 1248.48it/s]\n",
      "  0%|                                                                                            | 0/5 [00:00<?, ?it/s]\u001b[A\n",
      "Generating for node: N/S:   0%|                                                                  | 0/5 [00:00<?, ?it/s]\u001b[A\n",
      "Generating for node: Economic_Situation:   0%|                                                   | 0/5 [00:00<?, ?it/s]\u001b[A\n",
      "Generating for node: Economic_Situation:  40%|█████████████████▏                         | 2/5 [00:01<00:02,  1.47it/s]\u001b[A\n",
      "Generating for node: Gender:  40%|██████████████████████                                 | 2/5 [00:01<00:02,  1.47it/s]\u001b[A\n",
      "Generating for node: Graduate:  40%|█████████████████████▏                               | 2/5 [00:01<00:02,  1.47it/s]\u001b[A\n",
      "Generating for node: Graduate:  80%|██████████████████████████████████████████▍          | 4/5 [00:02<00:00,  1.49it/s]\u001b[A\n"
     ]
    },
    {
     "name": "stderr",
     "output_type": "stream",
     "text": [
      "Generating for node: Unemployed:  80%|████████████████████████████████████████▊          | 4/5 [00:02<00:00,  1.49it/s]\u001b[A\n",
      "Generating for node: Unemployed: 100%|███████████████████████████████████████████████████| 5/5 [00:03<00:00,  1.25it/s]\u001b[A\n",
      "7160it [00:05, 1271.84it/s]                                                                                            \n",
      "  0%|                                                                                         | 0/8858 [00:00<?, ?it/s]\n",
      "  0%|                                                                                            | 0/5 [00:00<?, ?it/s]\u001b[A\n",
      "Generating for node: N/S:   0%|                                                                  | 0/5 [00:00<?, ?it/s]\u001b[A\n",
      "Generating for node: Economic_Situation:   0%|                                                   | 0/5 [00:00<?, ?it/s]\u001b[A\n",
      "Generating for node: Economic_Situation:  40%|█████████████████▏                         | 2/5 [00:00<00:01,  2.40it/s]\u001b[A\n",
      "Generating for node: Gender:  40%|██████████████████████                                 | 2/5 [00:00<00:01,  2.40it/s]\u001b[A\n",
      "Generating for node: Graduate:  40%|█████████████████████▏                               | 2/5 [00:00<00:01,  2.40it/s]\u001b[A\n",
      "Generating for node: Graduate:  80%|██████████████████████████████████████████▍          | 4/5 [00:01<00:00,  2.39it/s]\u001b[A\n",
      "Generating for node: Unemployed:  80%|████████████████████████████████████████▊          | 4/5 [00:01<00:00,  2.39it/s]\u001b[A\n",
      "Generating for node: Unemployed: 100%|███████████████████████████████████████████████████| 5/5 [00:02<00:00,  1.98it/s]\u001b[A\n",
      " 37%|████████████████████████████▍                                               | 3316/8858 [00:02<00:04, 1308.26it/s]\n",
      "  0%|                                                                                            | 0/5 [00:00<?, ?it/s]\u001b[A\n",
      "Generating for node: N/S:   0%|                                                                  | 0/5 [00:00<?, ?it/s]\u001b[A\n",
      "Generating for node: Economic_Situation:   0%|                                                   | 0/5 [00:00<?, ?it/s]\u001b[A\n",
      "Generating for node: Economic_Situation:  40%|█████████████████▏                         | 2/5 [00:02<00:03,  1.03s/it]\u001b[A\n",
      "Generating for node: Gender:  40%|██████████████████████                                 | 2/5 [00:02<00:03,  1.03s/it]\u001b[A\n",
      "Generating for node: Graduate:  40%|█████████████████████▏                               | 2/5 [00:02<00:03,  1.03s/it]\u001b[A\n",
      "Generating for node: Graduate:  80%|██████████████████████████████████████████▍          | 4/5 [00:04<00:01,  1.03s/it]\u001b[A\n",
      "Generating for node: Unemployed:  80%|████████████████████████████████████████▊          | 4/5 [00:04<00:01,  1.03s/it]\u001b[A\n",
      "Generating for node: Unemployed: 100%|███████████████████████████████████████████████████| 5/5 [00:06<00:00,  1.23s/it]\u001b[A\n",
      "11512it [00:08, 1319.13it/s]                                                                                           \n",
      "  0%|                                                                                        | 0/14384 [00:00<?, ?it/s]\n",
      "  0%|                                                                                            | 0/5 [00:00<?, ?it/s]\u001b[A\n",
      "Generating for node: N/S:   0%|                                                                  | 0/5 [00:00<?, ?it/s]\u001b[A\n",
      "Generating for node: Economic_Situation:   0%|                                                   | 0/5 [00:00<?, ?it/s]\u001b[A\n",
      "Generating for node: Economic_Situation:  40%|█████████████████▏                         | 2/5 [00:01<00:02,  1.47it/s]\u001b[A\n",
      "Generating for node: Gender:  40%|██████████████████████                                 | 2/5 [00:01<00:02,  1.47it/s]\u001b[A\n",
      "Generating for node: Graduate:  40%|█████████████████████▏                               | 2/5 [00:01<00:02,  1.47it/s]\u001b[A\n",
      "Generating for node: Graduate:  80%|██████████████████████████████████████████▍          | 4/5 [00:02<00:00,  1.47it/s]\u001b[A\n",
      "Generating for node: Unemployed:  80%|████████████████████████████████████████▊          | 4/5 [00:02<00:00,  1.47it/s]\u001b[A\n",
      "Generating for node: Unemployed: 100%|███████████████████████████████████████████████████| 5/5 [00:04<00:00,  1.22it/s]\u001b[A\n",
      " 38%|████████████████████████████▊                                              | 5516/14384 [00:04<00:06, 1345.73it/s]\n",
      "  0%|                                                                                            | 0/5 [00:00<?, ?it/s]\u001b[A\n",
      "Generating for node: N/S:   0%|                                                                  | 0/5 [00:00<?, ?it/s]\u001b[A\n",
      "Generating for node: Economic_Situation:   0%|                                                   | 0/5 [00:00<?, ?it/s]\u001b[A\n",
      "Generating for node: Economic_Situation:  40%|█████████████████▏                         | 2/5 [00:03<00:05,  1.74s/it]\u001b[A\n",
      "Generating for node: Gender:  40%|██████████████████████                                 | 2/5 [00:03<00:05,  1.74s/it]\u001b[A\n",
      "Generating for node: Graduate:  40%|█████████████████████▏                               | 2/5 [00:03<00:05,  1.74s/it]\u001b[A\n",
      "Generating for node: Graduate:  80%|██████████████████████████████████████████▍          | 4/5 [00:06<00:01,  1.71s/it]\u001b[A\n",
      "Generating for node: Unemployed:  80%|████████████████████████████████████████▊          | 4/5 [00:06<00:01,  1.71s/it]\u001b[A\n",
      "Generating for node: Unemployed: 100%|███████████████████████████████████████████████████| 5/5 [00:10<00:00,  2.03s/it]\u001b[A\n",
      "18362it [00:14, 1285.78it/s]                                                                                           \n",
      "  0%|                                                                                        | 0/23357 [00:00<?, ?it/s]\n",
      "  0%|                                                                                            | 0/5 [00:00<?, ?it/s]\u001b[A\n",
      "Generating for node: N/S:   0%|                                                                  | 0/5 [00:00<?, ?it/s]\u001b[A\n",
      "Generating for node: Economic_Situation:   0%|                                                   | 0/5 [00:00<?, ?it/s]\u001b[A\n",
      "Generating for node: Economic_Situation:  40%|█████████████████▏                         | 2/5 [00:02<00:03,  1.15s/it]\u001b[A\n",
      "Generating for node: Gender:  40%|██████████████████████                                 | 2/5 [00:02<00:03,  1.15s/it]\u001b[A\n",
      "Generating for node: Graduate:  40%|█████████████████████▏                               | 2/5 [00:02<00:03,  1.15s/it]\u001b[A\n",
      "Generating for node: Graduate:  80%|██████████████████████████████████████████▍          | 4/5 [00:04<00:01,  1.14s/it]\u001b[A\n",
      "Generating for node: Unemployed:  80%|████████████████████████████████████████▊          | 4/5 [00:04<00:01,  1.14s/it]\u001b[A\n",
      "Generating for node: Unemployed: 100%|███████████████████████████████████████████████████| 5/5 [00:06<00:00,  1.35s/it]\u001b[A\n",
      " 38%|████████████████████████████▍                                              | 8871/23357 [00:06<00:11, 1309.66it/s]\n",
      "  0%|                                                                                            | 0/5 [00:00<?, ?it/s]\u001b[A\n",
      "Generating for node: N/S:   0%|                                                                  | 0/5 [00:00<?, ?it/s]\u001b[A\n",
      "Generating for node: Economic_Situation:   0%|                                                   | 0/5 [00:00<?, ?it/s]\u001b[A\n",
      "Generating for node: Economic_Situation:  40%|█████████████████▏                         | 2/5 [00:05<00:07,  2.65s/it]\u001b[A\n",
      "Generating for node: Gender:  40%|██████████████████████                                 | 2/5 [00:05<00:07,  2.65s/it]\u001b[A\n",
      "Generating for node: Graduate:  40%|█████████████████████▏                               | 2/5 [00:05<00:07,  2.65s/it]\u001b[A\n",
      "Generating for node: Graduate:  80%|██████████████████████████████████████████▍          | 4/5 [00:10<00:02,  2.65s/it]\u001b[A\n",
      "Generating for node: Unemployed:  80%|████████████████████████████████████████▊          | 4/5 [00:10<00:02,  2.65s/it]\u001b[A\n",
      "Generating for node: Unemployed: 100%|███████████████████████████████████████████████████| 5/5 [00:15<00:00,  3.18s/it]\u001b[A\n",
      "30355it [00:22, 1336.92it/s]                                                                                           \n"
     ]
    },
    {
     "name": "stderr",
     "output_type": "stream",
     "text": [
      "  0%|                                                                                        | 0/37926 [00:00<?, ?it/s]\n",
      "  0%|                                                                                            | 0/5 [00:00<?, ?it/s]\u001b[A\n",
      "Generating for node: N/S:   0%|                                                                  | 0/5 [00:00<?, ?it/s]\u001b[A\n",
      "Generating for node: Economic_Situation:   0%|                                                   | 0/5 [00:00<?, ?it/s]\u001b[A\n",
      "Generating for node: Economic_Situation:  40%|█████████████████▏                         | 2/5 [00:03<00:05,  1.77s/it]\u001b[A\n",
      "Generating for node: Gender:  40%|██████████████████████                                 | 2/5 [00:03<00:05,  1.77s/it]\u001b[A\n",
      "Generating for node: Graduate:  40%|█████████████████████▏                               | 2/5 [00:03<00:05,  1.77s/it]\u001b[A\n",
      "Generating for node: Graduate:  80%|██████████████████████████████████████████▍          | 4/5 [00:07<00:01,  1.77s/it]\u001b[A\n",
      "Generating for node: Unemployed:  80%|████████████████████████████████████████▊          | 4/5 [00:07<00:01,  1.77s/it]\u001b[A\n",
      "Generating for node: Unemployed: 100%|███████████████████████████████████████████████████| 5/5 [00:10<00:00,  2.12s/it]\u001b[A\n",
      " 38%|████████████████████████████▏                                             | 14427/37926 [00:10<00:17, 1358.80it/s]\n",
      "  0%|                                                                                            | 0/5 [00:00<?, ?it/s]\u001b[A\n",
      "Generating for node: N/S:   0%|                                                                  | 0/5 [00:00<?, ?it/s]\u001b[A\n",
      "Generating for node: Economic_Situation:   0%|                                                   | 0/5 [00:00<?, ?it/s]\u001b[A\n",
      "Generating for node: Economic_Situation:  40%|█████████████████▏                         | 2/5 [00:08<00:13,  4.44s/it]\u001b[A\n",
      "Generating for node: Gender:  40%|██████████████████████                                 | 2/5 [00:08<00:13,  4.44s/it]\u001b[A\n",
      " 38%|████████████████████████████▏                                             | 14427/37926 [00:26<00:17, 1358.80it/s]\u001b[A\n",
      "Generating for node: Graduate:  80%|██████████████████████████████████████████▍          | 4/5 [00:17<00:04,  4.41s/it]\u001b[A\n",
      "Generating for node: Unemployed:  80%|████████████████████████████████████████▊          | 4/5 [00:17<00:04,  4.41s/it]\u001b[A\n",
      "Generating for node: Unemployed: 100%|███████████████████████████████████████████████████| 5/5 [00:26<00:00,  5.24s/it]\u001b[A\n",
      "49278it [00:36, 1337.30it/s]                                                                                           \n",
      "  0%|                                                                                        | 0/61584 [00:00<?, ?it/s]\n",
      "  0%|                                                                                            | 0/5 [00:00<?, ?it/s]\u001b[A\n",
      "Generating for node: N/S:   0%|                                                                  | 0/5 [00:00<?, ?it/s]\u001b[A\n",
      "Generating for node: Economic_Situation:   0%|                                                   | 0/5 [00:00<?, ?it/s]\u001b[A\n",
      "Generating for node: Economic_Situation:  40%|█████████████████▏                         | 2/5 [00:06<00:09,  3.03s/it]\u001b[A\n",
      "Generating for node: Gender:  40%|██████████████████████                                 | 2/5 [00:06<00:09,  3.03s/it]\u001b[A\n",
      "Generating for node: Graduate:  40%|█████████████████████▏                               | 2/5 [00:06<00:09,  3.03s/it]\u001b[A\n",
      "Generating for node: Graduate:  80%|██████████████████████████████████████████▍          | 4/5 [00:11<00:02,  2.99s/it]\u001b[A\n",
      "Generating for node: Unemployed:  80%|████████████████████████████████████████▊          | 4/5 [00:11<00:02,  2.99s/it]\u001b[A\n",
      "Generating for node: Unemployed: 100%|███████████████████████████████████████████████████| 5/5 [00:17<00:00,  3.51s/it]\u001b[A\n",
      " 38%|███████████████████████████▊                                              | 23131/61584 [00:17<00:29, 1317.28it/s]\n",
      "  0%|                                                                                            | 0/5 [00:00<?, ?it/s]\u001b[A\n",
      "Generating for node: N/S:   0%|                                                                  | 0/5 [00:00<?, ?it/s]\u001b[A\n",
      "Generating for node: Economic_Situation:   0%|                                                   | 0/5 [00:00<?, ?it/s]\u001b[A\n",
      "Generating for node: Economic_Situation:  40%|█████████████████▏                         | 2/5 [00:14<00:21,  7.01s/it]\u001b[A\n",
      "Generating for node: Gender:  40%|██████████████████████                                 | 2/5 [00:14<00:21,  7.01s/it]\u001b[A\n",
      " 38%|███████████████████████████▊                                              | 23131/61584 [00:36<00:29, 1317.28it/s]\u001b[A\n",
      "Generating for node: Graduate:  80%|██████████████████████████████████████████▍          | 4/5 [00:28<00:07,  7.09s/it]\u001b[A\n",
      "Generating for node: Unemployed:  80%|████████████████████████████████████████▊          | 4/5 [00:28<00:07,  7.09s/it]\u001b[A\n",
      "Generating for node: Unemployed: 100%|███████████████████████████████████████████████████| 5/5 [00:43<00:00,  8.63s/it]\u001b[A\n",
      "80391it [01:00, 1323.41it/s]                                                                                           \n",
      "  0%|                                                                                       | 0/100000 [00:00<?, ?it/s]\n",
      "  0%|                                                                                            | 0/5 [00:00<?, ?it/s]\u001b[A\n",
      "Generating for node: N/S:   0%|                                                                  | 0/5 [00:00<?, ?it/s]\u001b[A\n",
      "Generating for node: Economic_Situation:   0%|                                                   | 0/5 [00:00<?, ?it/s]\u001b[A\n",
      "Generating for node: Economic_Situation:  40%|█████████████████▏                         | 2/5 [00:09<00:14,  4.87s/it]\u001b[A\n",
      "Generating for node: Gender:  40%|██████████████████████                                 | 2/5 [00:09<00:14,  4.87s/it]\u001b[A\n",
      "Generating for node: Graduate:  40%|█████████████████████▏                               | 2/5 [00:09<00:14,  4.87s/it]\u001b[A\n",
      "Generating for node: Graduate:  80%|██████████████████████████████████████████▍          | 4/5 [00:19<00:04,  4.81s/it]\u001b[A\n",
      "Generating for node: Unemployed:  80%|████████████████████████████████████████▊          | 4/5 [00:19<00:04,  4.81s/it]\u001b[A\n",
      "Generating for node: Unemployed: 100%|███████████████████████████████████████████████████| 5/5 [00:28<00:00,  5.64s/it]\u001b[A\n",
      " 37%|███████████████████████████▎                                             | 37382/100000 [00:28<00:47, 1325.56it/s]\n",
      "  0%|                                                                                            | 0/5 [00:00<?, ?it/s]\u001b[A\n",
      "Generating for node: N/S:   0%|                                                                  | 0/5 [00:00<?, ?it/s]\u001b[A\n",
      " 37%|███████████████████████████▎                                             | 37382/100000 [00:42<00:47, 1325.56it/s]\u001b[A\n",
      "Generating for node: Economic_Situation:  40%|█████████████████▏                         | 2/5 [00:24<00:36, 12.15s/it]\u001b[A\n",
      "Generating for node: Gender:  40%|██████████████████████                                 | 2/5 [00:24<00:36, 12.15s/it]\u001b[A\n",
      "Generating for node: Graduate:  40%|█████████████████████▏                               | 2/5 [00:24<00:36, 12.15s/it]\u001b[A\n",
      "Generating for node: Graduate:  80%|██████████████████████████████████████████▍          | 4/5 [00:48<00:12, 12.12s/it]\u001b[A\n",
      "Generating for node: Unemployed:  80%|████████████████████████████████████████▊          | 4/5 [00:48<00:12, 12.12s/it]\u001b[A\n",
      "Generating for node: Unemployed: 100%|███████████████████████████████████████████████████| 5/5 [01:12<00:00, 14.56s/it]\u001b[A\n",
      "131608it [01:41, 1302.96it/s]                                                                                          "
     ]
    },
    {
     "name": "stdout",
     "output_type": "stream",
     "text": [
      "[(    10, 0.5       , 2.63950000e-01, 0.2 , 0.03605)\n",
      " (    16, 0.375     , 1.38950000e-01, 0.31, 0.07395)\n",
      " (    26, 0.30769231, 7.16423077e-02, 0.23, 0.00605)\n",
      " (    42, 0.30952381, 7.34738095e-02, 0.31, 0.07395)\n",
      " (    69, 0.24637681, 1.03268116e-02, 0.28, 0.04395)\n",
      " (   112, 0.28571429, 4.96642857e-02, 0.25, 0.01395)\n",
      " (   183, 0.28415301, 4.81030055e-02, 0.22, 0.01605)\n",
      " (   297, 0.21885522, 1.71947811e-02, 0.25, 0.01395)\n",
      " (   483, 0.24223602, 6.18602484e-03, 0.23, 0.00605)\n",
      " (   784, 0.20790816, 2.81418367e-02, 0.24, 0.00395)\n",
      " (  1274, 0.23783359, 1.78359498e-03, 0.23, 0.00605)\n",
      " (  2069, 0.23151281, 4.53719188e-03, 0.22, 0.01605)\n",
      " (  3359, 0.24382257, 7.77256624e-03, 0.24, 0.00395)\n",
      " (  5455, 0.23849679, 2.44679193e-03, 0.24, 0.00395)\n",
      " (  8858, 0.23142922, 4.62078347e-03, 0.24, 0.00395)\n",
      " ( 14384, 0.23651279, 4.62791991e-04, 0.23, 0.00605)\n",
      " ( 23357, 0.23620328, 1.53279531e-04, 0.24, 0.00395)\n",
      " ( 37926, 0.2399673 , 3.91730475e-03, 0.24, 0.00395)\n",
      " ( 61584, 0.23584048, 2.09521954e-04, 0.24, 0.00395)\n",
      " (100000, 0.23584   , 2.10000000e-04, 0.24, 0.00395)]\n"
     ]
    },
    {
     "name": "stderr",
     "output_type": "stream",
     "text": [
      "\n"
     ]
    }
   ],
   "source": [
    "results = np.array([],dtype=[('sample_size', '<i8'), \n",
    "                             ('punemployed_RS', '<f8'),('e_unemployed_RS','<f8'),\n",
    "                             ('punemployed_LW', '<f8'),('e_unemployed_LW','<f8')])\n",
    "starting_size_ = 1\n",
    "final_size     = 5  \n",
    "experiments    = 20\n",
    "\n",
    "#sample_size from 10 to 10^5 in 20 experiments:\n",
    "for size in np.logspace(starting_size_, final_size, num=experiments, dtype='<i8'): #default base = 10.0\n",
    "    results=np.append(results,run_experiment(size))\n",
    "    \n",
    "print(results)"
   ]
  },
  {
   "cell_type": "markdown",
   "metadata": {},
   "source": [
    "#### Comparison between the two implemented approximate inference methods:"
   ]
  },
  {
   "cell_type": "code",
   "execution_count": 29,
   "metadata": {},
   "outputs": [
    {
     "data": {
      "image/png": "[encoded data removed]",
      "text/plain": [
       "<Figure size 1440x360 with 1 Axes>"
      ]
     },
     "metadata": {
      "needs_background": "light"
     },
     "output_type": "display_data"
    }
   ],
   "source": [
    "plt.figure(figsize=(20,5))\n",
    "plt.subplot(121)\n",
    "plt.ylim(.0,.5)\n",
    "plt.grid()\n",
    "plt.title('P(Unemployed=true| Gender=true, N/S=true)')\n",
    "LWplot, = plt.semilogx(results['sample_size'],results['punemployed_LW'],'b',label=\"Likelihood Weighting\")\n",
    "RSplot, = plt.semilogx(results['sample_size'],results['punemployed_RS'],'g',label=\"Rejection Sampling\")\n",
    "VEplot, = plt.semilogx(results['sample_size'],punemployed*np.ones(results.size),'r',label=\"reference value\")\n",
    "plt.legend(handles=[LWplot,RSplot,VEplot])\n",
    "\n",
    "plt.show()"
   ]
  },
  {
   "cell_type": "markdown",
   "metadata": {},
   "source": [
    "Increasing the number of samples, the estimate probability value becomes closer to the reference value."
   ]
  },
  {
   "cell_type": "code",
   "execution_count": 30,
   "metadata": {
    "scrolled": false
   },
   "outputs": [
    {
     "data": {
      "text/plain": [
       "<matplotlib.legend.Legend at 0x2757079b6c8>"
      ]
     },
     "execution_count": 30,
     "metadata": {},
     "output_type": "execute_result"
    },
    {
     "data": {
      "image/png": "[encoded data removed]",
      "text/plain": [
       "<Figure size 1440x360 with 1 Axes>"
      ]
     },
     "metadata": {
      "needs_background": "light"
     },
     "output_type": "display_data"
    }
   ],
   "source": [
    "plt.figure(figsize=(20,5))\n",
    "plt.subplot(121)\n",
    "plt.ylim(0,.2)\n",
    "plt.grid()\n",
    "plt.title('Absolute error on P(Unemployed=true| Gender=true, N/S=true)')\n",
    "ELWplot, = plt.semilogx(results['sample_size'],results['e_unemployed_LW'],'b',label=\"Likelihood Weighting\")\n",
    "ERSplot, = plt.semilogx(results['sample_size'],results['e_unemployed_RS'],'g',label=\"Rejection Sampling\")\n",
    "plt.legend(handles=[ELWplot,ERSplot])"
   ]
  },
  {
   "cell_type": "code",
   "execution_count": null,
   "metadata": {},
   "outputs": [],
   "source": []
  }
 ],
 "metadata": {
  "kernelspec": {
   "display_name": "Python 3",
   "language": "python",
   "name": "python3"
  },
  "language_info": {
   "codemirror_mode": {
    "name": "ipython",
    "version": 3
   },
   "file_extension": ".py",
   "mimetype": "text/x-python",
   "name": "python",
   "nbconvert_exporter": "python",
   "pygments_lexer": "ipython3",
   "version": "3.7.4"
  }
 },
 "nbformat": 4,
 "nbformat_minor": 2
}
